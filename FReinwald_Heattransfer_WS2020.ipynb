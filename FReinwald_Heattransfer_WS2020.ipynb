{
  "nbformat": 4,
  "nbformat_minor": 0,
  "metadata": {
    "colab": {
      "name": "FReinwald_Heattransfer_WS2020.ipynb",
      "provenance": [],
      "collapsed_sections": [],
      "authorship_tag": "ABX9TyMrjQvKNyzgBFpnwXD6Vzwp",
      "include_colab_link": true
    },
    "kernelspec": {
      "name": "python3",
      "display_name": "Python 3",
      "language": "python"
    }
  },
  "cells": [
    {
      "cell_type": "markdown",
      "metadata": {
        "id": "q7Zgso3kYe8w"
      },
      "source": [
        "# Heat transfer with alternative 'difference-star'\r\n"
      ]
    },
    {
      "cell_type": "code",
      "metadata": {
        "id": "u4drFXjbYeAJ"
      },
      "source": [
        "#Created by Fabian Reinwald as exam for the subject 'Modeling and Simulation' of Heilbronn University\n",
        "#Semester: WS2020/21\n",
        "#Professor: Markus Scholle\n",
        "\n",
        "#Import Libaries\n",
        "import numpy as np\n",
        "import matplotlib.pyplot as plt\n",
        "from mpl_toolkits.mplot3d import Axes3D\n",
        "import time"
      ],
      "execution_count": 1,
      "outputs": []
    },
    {
      "source": [
        "## Parameter Definition and preparation of data structure and initial values"
      ],
      "cell_type": "markdown",
      "metadata": {
        "id": "s9iV2akTQJDK"
      }
    },
    {
      "cell_type": "code",
      "metadata": {
        "id": "fQMuhzp9REq4"
      },
      "source": [
        "#Size of a discrete 2D-area in grids\n",
        "N = 25\n",
        "\n",
        "#Create 2D Matrix for conventional and alternative star\n",
        "X_conv_start = np.zeros([N,N])\n",
        "X_conv = np.copy(X_conv_start)\n",
        "\n",
        "X_alt_Start = np.zeros([N,N])\n",
        "X_alt = np.copy(X_alt_Start)"
      ],
      "execution_count": 2,
      "outputs": []
    },
    {
      "source": [
        "## Dirichlet boundary conditions"
      ],
      "cell_type": "markdown",
      "metadata": {}
    },
    {
      "cell_type": "code",
      "execution_count": 3,
      "metadata": {},
      "outputs": [],
      "source": [
        "#value of the field at the lower boundary\n",
        "X_conv[0:N,0] = 1\n",
        "X_alt[0:N,0] = 1\n",
        "\n",
        "#X_conv[0:N,N-1] = 1\n",
        "#X_alt[0:N,N-1] = 1"
      ]
    },
    {
      "source": [
        "## Computation  \n",
        "Conventional: $T_{i,j}=\\frac{1}{4}(T_{i+1,j}+T_{i-1,j}+T_{i,j+1}+T_{i,j-1})$\n",
        "Neumann BC along left lateral: $T_{0,j}=\\frac{1}{4}(T_{0,j+1}+T_{0,j-1}+2\\cdot T_{1,j})$\n",
        "<br>\n",
        "Alternative: $T_{i,j}=\\frac{1}{4}(T_{i+1,j+1}+T_{i+1,j-1}+T_{i-1,j+1}+T_{i-1,j-1})$\n",
        "Neumann BC along left lateral: $T_{0,j}=\\frac{1}{4}(2\\cdot T_{1,j+1}+2\\cdot T_{1,j-1})$"
      ],
      "cell_type": "markdown",
      "metadata": {}
    },
    {
      "cell_type": "code",
      "execution_count": 4,
      "metadata": {
        "tags": []
      },
      "outputs": [
        {
          "output_type": "stream",
          "name": "stdout",
          "text": [
            "Computation steps with the conventional difference cross: 1531\nNeeded time for them in nanoseconds: 50035300\nComputation steps with the alternative difference cross: 815\nNeeded time for them in nanoseconds: 75311400\nPercentage of how many steps the alternative method needs in relation to the conventional one: 53.23%\nPercentage of how many nanoseconds the alternative method needs in relation to the conventional one: 150.52%\n"
          ]
        }
      ],
      "source": [
        "#Counter to count the calculation steps\n",
        "count_conv = 0\n",
        "count_alt = 0\n",
        "\n",
        "#Starts a timer to measure calculation time\n",
        "time_conv_start = time.perf_counter_ns()\n",
        "\n",
        "#Calculates the heattransfer using the formula for the conventional star from above\n",
        "while np.linalg.norm(X_conv-X_conv_start) > 1e-5:\n",
        "    count_conv= count_conv+1\n",
        "    X_conv_start = np.copy(X_conv)\n",
        "    X_conv[1:N-1,1:N-1] = 1/4*(X_conv_start[1:N-1,2:N] + X_conv_start[1:N-1,0:N-2] + X_conv_start[2:N,1:N-1] + X_conv_start[0:N-2,1:N-1])\n",
        "    X_conv[0,1:N-1] = (X_conv[0,2:N]+X_conv[0,0:N-2]+2*X_conv[1,1:N-1])/4               # Neumann BC along the left lateral\n",
        "\n",
        "#Stops the calculation timer\n",
        "time_conv_elapsed = (time.perf_counter_ns() - time_conv_start)\n",
        "\n",
        "\n",
        "#Starts a timer to measure calculation time\n",
        "time_alt_start = time.perf_counter_ns()\n",
        "\n",
        "#Calculates the heattransfer using the formula for the alternative star from above\n",
        "while np.linalg.norm(X_alt-X_alt_Start) > 1e-5:\n",
        "    count_alt = count_alt + 1\n",
        "    X_alt_Start = np.copy(X_alt)\n",
        "    X_alt[1:N-1,1:N-1] = 1/4*(X_alt_Start[2:N,2:N]+X_alt_Start[2:N,0:N-2]+X_alt_Start[0:N-2,2:N]+X_alt_Start[0:N-2,0:N-2])\n",
        "    X_alt[0,1:N-1] = (2*X_alt[1,2:N]+2*X_alt[1,0:N-2])/4\n",
        "\n",
        "#Stops the calculation timer\n",
        "time_alt_elapsed = (time.perf_counter_ns() - time_conv_start)\n",
        "\n",
        "#Output of the measuring results\n",
        "print(\"Computation steps with the conventional difference cross: %i\" % count_conv)\n",
        "print(\"Needed time for them in nanoseconds: %i\" % time_conv_elapsed)\n",
        "print(\"Computation steps with the alternative difference cross: %i\" % count_alt)\n",
        "print(\"Needed time for them in nanoseconds: %i\" % time_alt_elapsed)\n",
        "print(\"Percentage of how many steps the alternative method needs in relation to the conventional one: %.2f%%\" % (count_alt/count_conv*100))                     #alternative method needs only half as many steps\n",
        "print(\"Percentage of how many nanoseconds the alternative method needs in relation to the conventional one: %.2f%%\" % (time_alt_elapsed/time_conv_elapsed*100)) #alternative method is 50% slower"
      ]
    },
    {
      "source": [
        "## Comparing the Heattransfer solutions"
      ],
      "cell_type": "markdown",
      "metadata": {}
    },
    {
      "cell_type": "code",
      "execution_count": 5,
      "metadata": {},
      "outputs": [],
      "source": [
        "#Difference between the solutions\n",
        "X_diff = X_alt-X_conv\n",
        "#Relative Difference\n",
        "X_diff_rel =np.divide(X_alt,X_conv,out = np.zeros_like(X_alt)+1,where = X_conv!=0)*100-100          #returns 1 for division with 0"
      ]
    },
    {
      "source": [
        "## Visualisation of the results"
      ],
      "cell_type": "markdown",
      "metadata": {}
    },
    {
      "source": [
        "#coordinates\n",
        "x = range(N)\n",
        "y = range(N)\n",
        "x,y = np.meshgrid(x,y)\n",
        "\n",
        "#Use this when running in a proper Jupter Notebook environment for interactive plots (does not work in VSCode)\n",
        "#%matplotbib notebook\n",
        "\n",
        "#Use this when running in VSCode as interactive plot (can also be used in Jupyer Notebook)\n",
        "#requires to install ipympl (pip install ipympl)\n",
        "#see https://github.com/matplotlib/ipympl for more information\n",
        "%matplotlib widget\n",
        "\n",
        "#Plotting heattransfer with conventional difference cross\n",
        "fig = plt.figure()\n",
        "ax = fig.add_subplot(411, projection = '3d')\n",
        "plt.title(\"Conventional difference star\")\n",
        "ax.plot_surface(x, y, X_conv, rstride=1, cstride=1, cmap='viridis', edgecolor='none')\n",
        "#Plotting heattransfer with alternative difference cross\n",
        "ax = fig.add_subplot(412, projection = '3d')\n",
        "plt.title(\"Alternative difference star\")\n",
        "ax.plot_surface(x, y, X_alt, rstride=1, cstride=1, cmap='viridis', edgecolor='none')\n",
        "#Plotting the difference between the two\n",
        "ax = fig.add_subplot(413, projection = '3d')\n",
        "plt.title(\"Difference\")\n",
        "ax.plot_surface(x, y, X_diff, rstride=1, cstride=1, cmap='viridis', edgecolor='none')\n",
        "#Plotting the relative difference between the two\n",
        "ax = fig.add_subplot(414, projection = '3d')\n",
        "plt.title(\"relative Difference\")\n",
        "ax.plot_surface(x, y, X_diff_rel, rstride=1, cstride=1, cmap='viridis', edgecolor='none')"
      ],
      "cell_type": "code",
      "metadata": {},
      "execution_count": 6,
      "outputs": [
        {
          "output_type": "display_data",
          "data": {
            "text/plain": "Canvas(toolbar=Toolbar(toolitems=[('Home', 'Reset original view', 'home', 'home'), ('Back', 'Back to previous …",
            "application/vnd.jupyter.widget-view+json": {
              "version_major": 2,
              "version_minor": 0,
              "model_id": "5d72fcf053334e34a505716ce6349e63"
            }
          },
          "metadata": {}
        },
        {
          "output_type": "execute_result",
          "data": {
            "text/plain": [
              "<mpl_toolkits.mplot3d.art3d.Poly3DCollection at 0x2738c712520>"
            ]
          },
          "metadata": {},
          "execution_count": 6
        }
      ]
    }
  ]
}