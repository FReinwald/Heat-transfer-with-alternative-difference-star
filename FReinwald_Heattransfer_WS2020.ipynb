{
  "nbformat": 4,
  "nbformat_minor": 0,
  "metadata": {
    "colab": {
      "name": "FReinwald_Heattransfer_WS2020.ipynb",
      "provenance": [],
      "collapsed_sections": [],
      "authorship_tag": "ABX9TyMrjQvKNyzgBFpnwXD6Vzwp",
      "include_colab_link": true
    },
    "kernelspec": {
      "name": "python3",
      "display_name": "Python 3"
    }
  },
  "cells": [
    {
      "cell_type": "markdown",
      "metadata": {
        "id": "view-in-github",
        "colab_type": "text"
      },
      "source": [
        "<a href=\"https://colab.research.google.com/github/FReinwald/Heat-transfer-with-alternative-difference-star-/blob/master/FReinwald_Heattransfer_WS2020.ipynb\" target=\"_parent\"><img src=\"https://colab.research.google.com/assets/colab-badge.svg\" alt=\"Open In Colab\"/></a>"
      ]
    },
    {
      "cell_type": "markdown",
      "metadata": {
        "id": "q7Zgso3kYe8w"
      },
      "source": [
        "# Heat transfer with alternative 'difference-star'\r\n"
      ]
    },
    {
      "cell_type": "code",
      "metadata": {
        "id": "u4drFXjbYeAJ"
      },
      "source": [
        "import numby as np\r\n",
        "import matplotlib.pyplot as plt\r\n",
        "from mpl_tookits.mplot3d import Axes3D"
      ],
      "execution_count": null,
      "outputs": []
    },
    {
      "cell_type": "markdown",
      "metadata": {
        "id": "s9iV2akTQJDK"
      },
      "source": [
        "### Parameter Definition and preparation of data structure and initial values"
      ]
    },
    {
      "cell_type": "code",
      "metadata": {
        "id": "fQMuhzp9REq4"
      },
      "source": [
        "#Size of a discrete 2D-area in grids\r\n",
        "N = 25\r\n",
        "\r\n",
        "#Create 2D Matrix for conventional and alternative star\r\n",
        "2D_Start = np.zeros([N,N])\r\n",
        "X_conv = np.copy(2D_Start)\r\n",
        "X_alt = np.copy(2D_Start)\r\n",
        "\r\n"
      ],
      "execution_count": null,
      "outputs": []
    }
  ]
}