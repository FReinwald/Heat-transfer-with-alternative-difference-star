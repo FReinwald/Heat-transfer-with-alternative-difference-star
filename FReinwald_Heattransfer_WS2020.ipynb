{
  "nbformat": 4,
  "nbformat_minor": 0,
  "metadata": {
    "colab": {
      "name": "FReinwald_Heattransfer_WS2020.ipynb",
      "provenance": [],
      "collapsed_sections": [],
      "authorship_tag": "ABX9TyMrjQvKNyzgBFpnwXD6Vzwp",
      "include_colab_link": true
    },
    "kernelspec": {
      "name": "python3",
      "display_name": "Python 3",
      "language": "python"
    }
  },
  "cells": [
    {
      "cell_type": "markdown",
      "metadata": {
        "id": "q7Zgso3kYe8w"
      },
      "source": [
        "# Heat transfer with alternative 'difference-star'\r\n"
      ]
    },
    {
      "cell_type": "code",
      "metadata": {
        "id": "u4drFXjbYeAJ"
      },
      "source": [
        "import numpy as np\n",
        "import matplotlib.pyplot as plt\n",
        "from mpl_toolkits.mplot3d import Axes3D"
      ],
      "execution_count": 225,
      "outputs": []
    },
    {
      "source": [
        "## Parameter Definition and preparation of data structure and initial values"
      ],
      "cell_type": "markdown",
      "metadata": {
        "id": "s9iV2akTQJDK"
      }
    },
    {
      "cell_type": "code",
      "metadata": {
        "id": "fQMuhzp9REq4"
      },
      "source": [
        "#Size of a discrete 2D-area in grids\n",
        "N = 25\n",
        "\n",
        "#Create 2D Matrix for conventional and alternative star\n",
        "X_conv_start = np.zeros([N,N])\n",
        "X_conv = np.copy(X_conv_start)\n",
        "\n",
        "X_alt_Start = np.zeros([N,N])\n",
        "X_alt = np.copy(X_alt_Start)"
      ],
      "execution_count": 226,
      "outputs": []
    },
    {
      "source": [
        "## Dirichlet boundary conditions"
      ],
      "cell_type": "markdown",
      "metadata": {}
    },
    {
      "cell_type": "code",
      "execution_count": 227,
      "metadata": {},
      "outputs": [],
      "source": [
        "X_conv[0:N,0] = 1\n",
        "X_alt[0:N,0] = 1"
      ]
    },
    {
      "source": [
        "## Computation"
      ],
      "cell_type": "markdown",
      "metadata": {}
    },
    {
      "cell_type": "code",
      "execution_count": 228,
      "metadata": {},
      "outputs": [
        {
          "output_type": "stream",
          "name": "stdout",
          "text": [
            "Computation steps with the conventional difference cross: 1531\nComputation steps with the alternative difference cross: 815\nPercentage of how many steps the alternative method need in relation to the conventional one: 0.53%\n"
          ]
        }
      ],
      "source": [
        "count_conv = 0\n",
        "count_alt = 0\n",
        "\n",
        "while np.linalg.norm(X_conv-X_conv_start) > 1e-5:\n",
        "    count_conv= count_conv+1\n",
        "    X_conv_start = np.copy(X_conv)\n",
        "    X_conv[1:N-1,1:N-1] = 1/4*(X_conv_start[1:N-1,2:N] + X_conv_start[1:N-1,0:N-2] + X_conv_start[2:N,1:N-1] + X_conv_start[0:N-2,1:N-1])\n",
        "    X_conv[0,1:N-1] = (X_conv[0,2:N]+X_conv[0,0:N-2]+2*X_conv[1,1:N-1])/4               # Neumann BC along the left lateral\n",
        "\n",
        "print(\"Computation steps with the conventional difference cross: %i\" % count_conv)\n",
        "\n",
        "\n",
        "while np.linalg.norm(X_alt-X_alt_Start) > 1e-5:\n",
        "    count_alt = count_alt + 1\n",
        "    X_alt_Start = np.copy(X_alt)\n",
        "    X_alt[1:N-1,1:N-1] = 1/4*(X_alt_Start[2:N,2:N]+X_alt_Start[2:N,0:N-2]+X_alt_Start[0:N-2,2:N]+X_alt_Start[0:N-2,0:N-2])\n",
        "    X_alt[0,1:N-1] = (2*X_alt[1,2:N]+2*X_alt[1,0:N-2])/4\n",
        "\n",
        "print(\"Computation steps with the alternative difference cross: %i\" % count_alt)\n",
        "print (\"Percentage of how many steps the alternative method need in relation to the conventional one: %.2f%%\" % (count_alt/count_conv))"
      ]
    },
    {
      "source": [
        "The conventional method seems to need roughly twice as much computation steps to achieve the desired accuracy."
      ],
      "cell_type": "markdown",
      "metadata": {}
    },
    {
      "source": [
        "x = range(N)\n",
        "y = range(N)\n",
        "x,y = np.meshgrid(x,y)\n",
        "\n",
        "#Use this when running in a proper Jupter Notebook environment for interactive plots\n",
        "#%matplotbib notebook\n",
        "\n",
        "#Use this when running in VSCode as interactive plot\n",
        "#requires to install ipympl (pip install ipympl)\n",
        "#see https://github.com/matplotlib/ipympl for more information\n",
        "%matplotlib widget\n",
        "\n",
        "#Plotting heattransfer with conventional difference cross\n",
        "fig = plt.figure()\n",
        "ax = fig.add_subplot(111, projection = '3d')\n",
        "ax.plot_surface(x, y, X_conv, rstride=1, cstride=1, cmap='viridis', edgecolor='none')\n",
        "#Plotting heattransfer with alternative difference cross\n",
        "fig = plt.figure()\n",
        "ax = fig.add_subplot(111, projection = '3d')\n",
        "ax.plot_surface(x, y, X_alt, rstride=1, cstride=1, cmap='viridis', edgecolor='none')"
      ],
      "cell_type": "code",
      "metadata": {},
      "execution_count": 229,
      "outputs": [
        {
          "output_type": "display_data",
          "data": {
            "text/plain": "Canvas(toolbar=Toolbar(toolitems=[('Home', 'Reset original view', 'home', 'home'), ('Back', 'Back to previous …",
            "application/vnd.jupyter.widget-view+json": {
              "version_major": 2,
              "version_minor": 0,
              "model_id": "b2f153ea51bd4df0bf27448850b98298"
            }
          },
          "metadata": {}
        },
        {
          "output_type": "display_data",
          "data": {
            "text/plain": "Canvas(toolbar=Toolbar(toolitems=[('Home', 'Reset original view', 'home', 'home'), ('Back', 'Back to previous …",
            "application/vnd.jupyter.widget-view+json": {
              "version_major": 2,
              "version_minor": 0,
              "model_id": "a578109094f04691abf2f8aad190993e"
            }
          },
          "metadata": {}
        },
        {
          "output_type": "execute_result",
          "data": {
            "text/plain": [
              "<mpl_toolkits.mplot3d.art3d.Poly3DCollection at 0x1faebe99370>"
            ]
          },
          "metadata": {},
          "execution_count": 229
        }
      ]
    },
    {
      "source": [
        "## Comparing the Heattransfer solutions"
      ],
      "cell_type": "markdown",
      "metadata": {}
    },
    {
      "cell_type": "code",
      "execution_count": 230,
      "metadata": {},
      "outputs": [],
      "source": [
        "X_diff = X_alt-X_conv"
      ]
    },
    {
      "cell_type": "code",
      "execution_count": 231,
      "metadata": {},
      "outputs": [
        {
          "output_type": "display_data",
          "data": {
            "text/plain": "Canvas(toolbar=Toolbar(toolitems=[('Home', 'Reset original view', 'home', 'home'), ('Back', 'Back to previous …",
            "application/vnd.jupyter.widget-view+json": {
              "version_major": 2,
              "version_minor": 0,
              "model_id": "a76a954fadb243deac893150f77d37f3"
            }
          },
          "metadata": {}
        },
        {
          "output_type": "execute_result",
          "data": {
            "text/plain": [
              "<mpl_toolkits.mplot3d.art3d.Poly3DCollection at 0x1faebbcf700>"
            ]
          },
          "metadata": {},
          "execution_count": 231
        }
      ],
      "source": [
        "x = range(N)\n",
        "y = range(N)\n",
        "x,y = np.meshgrid(x,y)\n",
        "\n",
        "#Use this when running in a proper Jupter Notebook environment for interactive plots\n",
        "#%matplotbib notebook\n",
        "\n",
        "#Use this when running in VSCode as interactive plot\n",
        "#requires to install ipympl (pip install ipympl)\n",
        "#see https://github.com/matplotlib/ipympl for more information\n",
        "%matplotlib widget\n",
        "\n",
        "fig = plt.figure()\n",
        "ax = fig.add_subplot(111, projection = '3d')\n",
        "ax.plot_surface(x, y, X_diff, rstride=1, cstride=1, cmap='viridis', edgecolor='none')"
      ]
    },
    {
      "cell_type": "code",
      "execution_count": null,
      "metadata": {},
      "outputs": [],
      "source": []
    }
  ]
}