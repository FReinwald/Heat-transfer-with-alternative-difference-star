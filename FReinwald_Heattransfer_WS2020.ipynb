{
  "nbformat": 4,
  "nbformat_minor": 0,
  "metadata": {
    "colab": {
      "name": "FReinwald_Heattransfer_WS2020.ipynb",
      "provenance": [],
      "collapsed_sections": []
    },
    "kernelspec": {
      "name": "python3",
      "display_name": "Python 3"
    }
  },
  "cells": [
    {
      "cell_type": "markdown",
      "metadata": {
        "id": "q7Zgso3kYe8w"
      },
      "source": [
        "# Heat transfer with alternative 'difference-star'\r\n"
      ]
    },
    {
      "cell_type": "code",
      "metadata": {
        "id": "u4drFXjbYeAJ"
      },
      "source": [
        "import numby as np\r\n",
        "import matplotlib.pyplot as plt\r\n",
        "from mpl_tookits.mplot3d import Axes3D"
      ],
      "execution_count": null,
      "outputs": []
    },
    {
      "cell_type": "markdown",
      "metadata": {
        "id": "s9iV2akTQJDK"
      },
      "source": [
        ""
      ]
    }
  ]
}